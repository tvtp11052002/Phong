{
  "nbformat": 4,
  "nbformat_minor": 0,
  "metadata": {
    "colab": {
      "name": "Untitled0.ipynb",
      "provenance": [],
      "authorship_tag": "ABX9TyPQgHuTNmGw2skmJCu4QBJa",
      "include_colab_link": true
    },
    "kernelspec": {
      "name": "python3",
      "display_name": "Python 3"
    }
  },
  "cells": [
    {
      "cell_type": "markdown",
      "metadata": {
        "id": "view-in-github",
        "colab_type": "text"
      },
      "source": [
        "<a href=\"https://colab.research.google.com/github/tvtp11052002/Phong/blob/main/Untitled0.ipynb\" target=\"_parent\"><img src=\"https://colab.research.google.com/assets/colab-badge.svg\" alt=\"Open In Colab\"/></a>"
      ]
    },
    {
      "cell_type": "code",
      "metadata": {
        "id": "QF9sr2cjSaP1",
        "outputId": "cdeb9036-3250-48e3-dc02-164a50852106",
        "colab": {
          "base_uri": "https://localhost:8080/"
        }
      },
      "source": [
        "x=[]\n",
        "x.append(18)\n",
        "x.append(\"Huế\")\n",
        "y=[12,45,-1,-0.56,\"abc\"]\n",
        "x=x+y\n",
        "print(x)\n",
        "print(x[0],x[-1])\n",
        "print(x[:5])\n",
        "print(x[2:])"
      ],
      "execution_count": 7,
      "outputs": [
        {
          "output_type": "stream",
          "text": [
            "[18, 'Huế', 12, 45, -1, -0.56, 'abc']\n",
            "18 abc\n",
            "[18, 'Huế', 12, 45, -1]\n",
            "[12, 45, -1, -0.56, 'abc']\n"
          ],
          "name": "stdout"
        }
      ]
    }
  ]
}